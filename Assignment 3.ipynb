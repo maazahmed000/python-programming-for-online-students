{
 "cells": [
  {
   "cell_type": "code",
   "execution_count": 1,
   "metadata": {},
   "outputs": [
    {
     "name": "stdout",
     "output_type": "stream",
     "text": [
      "Enter 1st Num : 5\n",
      "Enter 2nd Num : 8\n",
      "1 : Addition              2 : Subtraction \n",
      "3 : Multiplication        4 : Division \n",
      "5 : power (A to B)        6 : power (B to A)\n",
      "What would you like to do ? 3\n",
      "You Selected Multiplication\n",
      "result is :  40\n"
     ]
    }
   ],
   "source": [
    "X = int (input('Enter 1st Num : '))\n",
    "Y = int (input('Enter 2nd Num : '))\n",
    "print('1 : Addition              2 : Subtraction ')               \n",
    "print('3 : Multiplication        4 : Division ')\n",
    "print('5 : power (A to B)        6 : power (B to A)')\n",
    "op = int(input('What would you like to do ? '))\n",
    "if op == 1:\n",
    "    result = X + Y\n",
    "    print('You Selected Addition')\n",
    "    print('result is : ', result)\n",
    "elif op == 2:\n",
    "    result = X - Y\n",
    "    print('You Selected Subtraction')\n",
    "    print('result is : ', result)\n",
    "elif op == 3:\n",
    "    result = X * Y\n",
    "    print('You Selected Multiplication')\n",
    "    print('result is : ', result)\n",
    "elif op == 4:\n",
    "    result = X / Y\n",
    "    print('You Selected Addition')\n",
    "    print('result is : ', result)\n",
    "elif op == 5:\n",
    "    result = X ** Y\n",
    "    print('You Selected Power(A to B)')\n",
    "    print('result is : ', result)\n",
    "elif op == 6:\n",
    "    result = Y ** X\n",
    "    print('You Selected Power(B to A)')\n",
    "    print('result is : ', result)\n",
    "else :\n",
    "    ('Invalid Selection')"
   ]
  },
  {
   "cell_type": "code",
   "execution_count": 2,
   "metadata": {},
   "outputs": [
    {
     "name": "stdout",
     "output_type": "stream",
     "text": [
      "Defined List\n",
      "[5, 't', 6, 'y', 2, '7']\n",
      "5  is integer.\n",
      "6  is integer.\n",
      "2  is integer.\n"
     ]
    }
   ],
   "source": [
    "x = [ 5 , 't' , 6 , 'y' , 2 , '7'] #'7' is a string in the list\n",
    "print('Defined List')\n",
    "print(x)\n",
    "for a in x:\n",
    "    if type(a) == int:\n",
    "        print(a ,' is integer.')"
   ]
  },
  {
   "cell_type": "code",
   "execution_count": 3,
   "metadata": {},
   "outputs": [
    {
     "name": "stdout",
     "output_type": "stream",
     "text": [
      "{'Name': 'Steve', 'F.Name': 'Roger Sahaab', 'Gender': 'Male', 'Qualification': 'Graduate', 'E': 57, 'eyecolor': 23}\n"
     ]
    }
   ],
   "source": [
    "Info = {'Name' : 'Steve' , 'F.Name' : 'Roger Sahaab' , 'Gender' : 'Male' }\n",
    "Info.update( Qualification = 'Graduate' )\n",
    "Info['E'] = 57\n",
    "Info.update( eyecolor = 23)\n",
    "print(Info)"
   ]
  },
  {
   "cell_type": "code",
   "execution_count": 4,
   "metadata": {},
   "outputs": [
    {
     "name": "stdout",
     "output_type": "stream",
     "text": [
      "32\n"
     ]
    }
   ],
   "source": [
    "Info = {'A' : 15 , 'B' : 8 , 'C' : 9 }\n",
    "print(sum(Info.values()))"
   ]
  },
  {
   "cell_type": "code",
   "execution_count": 5,
   "metadata": {},
   "outputs": [
    {
     "name": "stdout",
     "output_type": "stream",
     "text": [
      "Real List = [1, 4, 4, 53, 2, 5, 3, 5, 7, 9, 3]\n",
      "duplicates are = [4, 5, 3]\n"
     ]
    }
   ],
   "source": [
    "raw = [1,4,4,53,2,5,3,5,7,9,3]\n",
    "x=[]\n",
    "y=[]\n",
    "for b in raw:\n",
    "    if b not in x:\n",
    "        x.append(b)\n",
    "    else:\n",
    "        y.append(b)\n",
    "print('Real List =' , raw)\n",
    "print('duplicates are =' ,y)"
   ]
  },
  {
   "cell_type": "code",
   "execution_count": 6,
   "metadata": {},
   "outputs": [
    {
     "name": "stdout",
     "output_type": "stream",
     "text": [
      "Enter Key : A\n",
      "Key Exist\n"
     ]
    }
   ],
   "source": [
    "Info = {'A' : 15 , 'B' : 8 , 'C' : 9 , 'D' : 9 , 'E' : 15 }\n",
    "x = input ('Enter Key : ')\n",
    "if Info.get(x)!= None:\n",
    "    print('Key Exist')\n",
    "else :\n",
    "    print('Key Not Exist')"
   ]
  },
  {
   "cell_type": "code",
   "execution_count": null,
   "metadata": {},
   "outputs": [],
   "source": []
  },
  {
   "cell_type": "code",
   "execution_count": null,
   "metadata": {},
   "outputs": [],
   "source": []
  }
 ],
 "metadata": {
  "kernelspec": {
   "display_name": "Python 3",
   "language": "python",
   "name": "python3"
  },
  "language_info": {
   "codemirror_mode": {
    "name": "ipython",
    "version": 3
   },
   "file_extension": ".py",
   "mimetype": "text/x-python",
   "name": "python",
   "nbconvert_exporter": "python",
   "pygments_lexer": "ipython3",
   "version": "3.7.4"
  }
 },
 "nbformat": 4,
 "nbformat_minor": 2
}
