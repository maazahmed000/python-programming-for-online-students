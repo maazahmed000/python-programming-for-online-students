{
 "cells": [
  {
   "cell_type": "code",
   "execution_count": 4,
   "metadata": {},
   "outputs": [],
   "source": [
    "from tkinter import *\n",
    "\n",
    "# importing strftime function to \n",
    "# retrieve system's time \n",
    "from time import strftime\n",
    "\n",
    "# Tkinter ki window\n",
    "root = Tk()\n",
    "root.title('Clock')\n",
    "\n",
    "\n",
    "# Time k lye ek function\n",
    "def time():\n",
    "    string = strftime('%H:%M:%S %p')\n",
    "    lbl.config(text=string)\n",
    "    lbl.after(1000, time)\n",
    "\n",
    "\n",
    "# Gui mai Nakshy\n",
    "lbl = Label(root, font=('Candara', 70, 'bold'))\n",
    "\n",
    "# clock ki geometry window ki\n",
    "lbl.pack(anchor='center')\n",
    "time()\n",
    "\n",
    "mainloop()\n"
   ]
  },
  {
   "cell_type": "code",
   "execution_count": null,
   "metadata": {},
   "outputs": [],
   "source": []
  },
  {
   "cell_type": "code",
   "execution_count": null,
   "metadata": {},
   "outputs": [],
   "source": []
  }
 ],
 "metadata": {
  "kernelspec": {
   "display_name": "Python 3",
   "language": "python",
   "name": "python3"
  },
  "language_info": {
   "codemirror_mode": {
    "name": "ipython",
    "version": 3
   },
   "file_extension": ".py",
   "mimetype": "text/x-python",
   "name": "python",
   "nbconvert_exporter": "python",
   "pygments_lexer": "ipython3",
   "version": "3.7.4"
  }
 },
 "nbformat": 4,
 "nbformat_minor": 2
}
