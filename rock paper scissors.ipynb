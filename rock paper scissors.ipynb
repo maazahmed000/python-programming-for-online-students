{
 "cells": [
  {
   "cell_type": "code",
   "execution_count": 2,
   "metadata": {},
   "outputs": [
    {
     "name": "stdout",
     "output_type": "stream",
     "text": [
      "Enter ROCK , PAPER or SCISSORS : ROCK\n",
      "You selected : ROCK\n",
      "Computer Selected : SCISSORS\n",
      "yayy you won very well done!\n"
     ]
    }
   ],
   "source": [
    "'''This is a game about Rock paper scissors.. lets begin... '''\n",
    "from random import randint\n",
    "#Creating a List\n",
    "options =['ROCK','PAPER','SCISSORS']\n",
    "#Creating a Dictionary for printing the messages\n",
    "message ={\n",
    "  'tie':'Yawn its an Equalizer',\n",
    "  'won':'yayy you won very well done!',\n",
    "  'lost':'Aww you lost, thats ok! try again.'\n",
    "}\n",
    "def decide_winner(uc,cc):\n",
    "    print('You selected : %s' % uc)\n",
    "    print('Computer Selected : %s' % cc)\n",
    "    if uc == cc:\n",
    "        print(message['tie'])\n",
    "    elif uc == 'ROCK' and cc == 'SCISSORS':  \n",
    "        print (message['won'])\n",
    "    elif uc == 'PAPER' and cc == 'ROCK':\n",
    "        print (message['won'])\n",
    "    elif uc == 'SCISSORS' and cc == 'PAPER' :\n",
    "        print (message['won'])\n",
    "    else:\n",
    "        print (message['lost'])\n",
    "def play_RPS():\n",
    "    uc = input('Enter ROCK , PAPER or SCISSORS : ') \n",
    "    uc = uc.upper()\n",
    "    cc = options[randint(0,2)]\n",
    "    decide_winner(uc,cc)\n",
    "play_RPS()\n"
   ]
  },
  {
   "cell_type": "code",
   "execution_count": null,
   "metadata": {},
   "outputs": [],
   "source": []
  }
 ],
 "metadata": {
  "kernelspec": {
   "display_name": "Python 3",
   "language": "python",
   "name": "python3"
  },
  "language_info": {
   "codemirror_mode": {
    "name": "ipython",
    "version": 3
   },
   "file_extension": ".py",
   "mimetype": "text/x-python",
   "name": "python",
   "nbconvert_exporter": "python",
   "pygments_lexer": "ipython3",
   "version": "3.7.4"
  }
 },
 "nbformat": 4,
 "nbformat_minor": 2
}
