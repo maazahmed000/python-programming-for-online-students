{
 "cells": [
  {
   "cell_type": "code",
   "execution_count": 1,
   "metadata": {},
   "outputs": [
    {
     "name": "stdout",
     "output_type": "stream",
     "text": [
      "Enter the Number : 4\n",
      "4 != 24\n"
     ]
    }
   ],
   "source": [
    "import math\n",
    "X = int(input('Enter the Number : '))\n",
    "def Factorial(X):\n",
    "    return(math.factorial(X))\n",
    "val = Factorial(X)\n",
    "print(X,'!=',val)"
   ]
  },
  {
   "cell_type": "code",
   "execution_count": 2,
   "metadata": {},
   "outputs": [
    {
     "name": "stdout",
     "output_type": "stream",
     "text": [
      "Enter a Mix String: Hi My Name Is MaaZ Ahmed\n",
      "Upper Case:  7\n",
      "Lower Case:  12\n"
     ]
    }
   ],
   "source": [
    "String = input('Enter a Mix String: ')\n",
    "def Calculation(String):\n",
    "    S = {'UC': 0, 'LC': 0}\n",
    "    for Letter in String:\n",
    "        if Letter.isupper():\n",
    "            S['UC']+=1\n",
    "        elif Letter.islower():\n",
    "            S['LC']+=1\n",
    "    print('Upper Case: ',S['UC'])\n",
    "    print('Lower Case: ',S['LC'])\n",
    "Calculation(String)"
   ]
  },
  {
   "cell_type": "code",
   "execution_count": 3,
   "metadata": {},
   "outputs": [
    {
     "name": "stdout",
     "output_type": "stream",
     "text": [
      "90 Is Even\n",
      "2 Is Even\n",
      "6 Is Even\n",
      "4 Is Even\n",
      "44 Is Even\n",
      "12 Is Even\n"
     ]
    }
   ],
   "source": [
    "x = [3,90,1,2,7,5,6,4,1,44,12]\n",
    "def checkeven(x):\n",
    "    for y in x:\n",
    "        if y%2==0:\n",
    "            print(y,'Is Even')\n",
    "checkeven(x)"
   ]
  },
  {
   "cell_type": "code",
   "execution_count": 4,
   "metadata": {},
   "outputs": [
    {
     "name": "stdout",
     "output_type": "stream",
     "text": [
      "Enter A phrase: Rotor\n",
      "A planidrome\n"
     ]
    }
   ],
   "source": [
    "X = input('Enter A phrase: ')\n",
    "def Checking(X):\n",
    "    M = len(X)\n",
    "    reverse=''.join(reversed(X))\n",
    "    if reverse.casefold() == X.casefold(): #casefold() is used to get a comparison eliminating every case sensitive checks\n",
    "        print('A planidrome')\n",
    "    else:\n",
    "        print('Oridinary Word')\n",
    "\n",
    "Checking(X)"
   ]
  },
  {
   "cell_type": "code",
   "execution_count": 5,
   "metadata": {},
   "outputs": [
    {
     "name": "stdout",
     "output_type": "stream",
     "text": [
      "Enter A Number: 17\n",
      "It is Prime number\n"
     ]
    }
   ],
   "source": [
    "val=int(input('Enter A Number: '))\n",
    "def checkprime(val):\n",
    "    if val<=1:\n",
    "        print(\"enter Val from 2 or greater than 2: \")\n",
    "    for test in range(2,val):\n",
    "        if val % test == 0:\n",
    "            return False     # reason : returning a boolean, if u right a print statement it will compare every element between 2 and val and repeat printing\n",
    "    return True     #reason : if a value is prime, the result will be true\n",
    "\n",
    "checkprime(val)\n",
    "if checkprime(val):\n",
    "    print('It is Prime number')\n",
    "else:\n",
    "    print('IT is not a prime Number')"
   ]
  },
  {
   "cell_type": "code",
   "execution_count": 6,
   "metadata": {},
   "outputs": [
    {
     "name": "stdout",
     "output_type": "stream",
     "text": [
      "Enter name: Maaz Ahmed\n",
      "Gender M or F:M\n",
      "Customer Name:  Maaz Ahmed\n",
      "Gender:  M\n",
      "List of Items: \n",
      "\n",
      "hollow\n",
      "toothbrush\n",
      "Ice cream\n",
      "Brushes\n",
      "toothpick\n",
      "chawal\n"
     ]
    }
   ],
   "source": [
    "name=input('Enter name: ')\n",
    "gender=input('Gender M or F:')\n",
    "def shoppingList(name,gender,*items):\n",
    "    print('Customer Name: ',name)\n",
    "    print('Gender: ',gender)\n",
    "    print('List of Items: \\n')\n",
    "    for item in items:\n",
    "        print(item)\n",
    "shoppingList(name,gender,'hollow','toothbrush','Ice cream','Brushes','toothpick','chawal')"
   ]
  }
 ],
 "metadata": {
  "kernelspec": {
   "display_name": "Python 3",
   "language": "python",
   "name": "python3"
  },
  "language_info": {
   "codemirror_mode": {
    "name": "ipython",
    "version": 3
   },
   "file_extension": ".py",
   "mimetype": "text/x-python",
   "name": "python",
   "nbconvert_exporter": "python",
   "pygments_lexer": "ipython3",
   "version": "3.7.4"
  }
 },
 "nbformat": 4,
 "nbformat_minor": 2
}
