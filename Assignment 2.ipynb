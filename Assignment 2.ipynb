{
 "cells": [
  {
   "cell_type": "code",
   "execution_count": 1,
   "metadata": {},
   "outputs": [
    {
     "name": "stdout",
     "output_type": "stream",
     "text": [
      "Subject #1 Marks: 75\n",
      "Subject #2 Marks: 45\n",
      "Subject #3 Marks: 52\n",
      "Subject #4 Marks: 67\n",
      "Subject #5 Marks: 95\n",
      "total percentage is  66.8  with Grade B\n"
     ]
    }
   ],
   "source": [
    "A=int(input('Subject #1 Marks: '))\n",
    "B=int(input('Subject #2 Marks: '))\n",
    "C=int(input('Subject #3 Marks: '))\n",
    "D=int(input('Subject #4 Marks: '))\n",
    "E=int(input('Subject #5 Marks: '))\n",
    "avg = ((A+B+C+D+E) / 500) * 100\n",
    "if avg > 90:\n",
    "    print('total percentage is ', avg , ' with Grade A+')\n",
    "elif avg >= 80 and avg <= 90:\n",
    "    print('total percentage is ', avg , ' with Grade A')\n",
    "elif avg > 60 and avg <= 79:\n",
    "    print('total percentage is ', avg , ' with Grade B')\n",
    "elif avg > 50 and avg <= 60:\n",
    "    print('total percentage is ', avg , ' with Grade C')\n",
    "elif avg > 40 and avg <= 50:\n",
    "    print('total percentage is ', avg , ' with Grade D')\n",
    "elif avg < 40:\n",
    "    print('total percentage is ', avg , ' with Grade F')"
   ]
  },
  {
   "cell_type": "code",
   "execution_count": 2,
   "metadata": {},
   "outputs": [
    {
     "name": "stdout",
     "output_type": "stream",
     "text": [
      "Enter a value :7\n",
      "The Value is odd\n"
     ]
    }
   ],
   "source": [
    "X=int(input('Enter a value :'))\n",
    "if X % 2 == 0:\n",
    "    print('The value is Even')\n",
    "else:\n",
    "    print('The Value is odd')"
   ]
  },
  {
   "cell_type": "code",
   "execution_count": 3,
   "metadata": {},
   "outputs": [
    {
     "name": "stdout",
     "output_type": "stream",
     "text": [
      "6\n"
     ]
    }
   ],
   "source": [
    "x = [ 1, 2 , 3 , 5 , 7 , 8]\n",
    "print(len(x))"
   ]
  },
  {
   "cell_type": "code",
   "execution_count": 4,
   "metadata": {},
   "outputs": [
    {
     "name": "stdout",
     "output_type": "stream",
     "text": [
      "Enter any value :7\n",
      "Enter any value :3\n",
      "Enter any value :10\n",
      "Enter any value :15\n",
      "Enter any value :6\n",
      "the Sum is  41\n"
     ]
    }
   ],
   "source": [
    "x = []\n",
    "for b in range(5):\n",
    "    b = int(input('Enter any value :'))\n",
    "    x.append(b)\n",
    "b = sum(x)\n",
    "print('the Sum is ' ,b)"
   ]
  },
  {
   "cell_type": "code",
   "execution_count": 5,
   "metadata": {},
   "outputs": [
    {
     "name": "stdout",
     "output_type": "stream",
     "text": [
      "Enter any value :80\n",
      "Enter any value :75\n",
      "Enter any value :89\n",
      "Enter any value :15\n",
      "Enter any value :48\n",
      "the biggest is  89\n"
     ]
    }
   ],
   "source": [
    "x = []\n",
    "for b in range(5):\n",
    "    b = int(input('Enter any value :'))\n",
    "    x.append(b)\n",
    "print('the biggest is ' ,max(x))"
   ]
  },
  {
   "cell_type": "code",
   "execution_count": 6,
   "metadata": {},
   "outputs": [
    {
     "name": "stdout",
     "output_type": "stream",
     "text": [
      "Enter any value :1\n",
      "Enter any value :1\n",
      "Enter any value :2\n",
      "Enter any value :3\n",
      "Enter any value :5\n",
      "Enter any value :8\n",
      "Enter any value :13\n",
      "Enter any value :21\n",
      "Enter any value :34\n",
      "Enter any value :55\n",
      "Enter any value :89\n",
      " Main List [1, 1, 2, 3, 5, 8, 13, 21, 34, 55, 89]\n",
      "the values less than 5 in the list  [1, 1, 2, 3]\n"
     ]
    }
   ],
   "source": [
    "x = []\n",
    "y = []\n",
    "for b in range(11):\n",
    "    b = int(input('Enter any value :'))\n",
    "    x.append(b)\n",
    "    if b < 5:\n",
    "        y.append(b)\n",
    "print(' Main List' ,x)\n",
    "print('the values less than 5 in the list ' ,y)"
   ]
  },
  {
   "cell_type": "code",
   "execution_count": null,
   "metadata": {},
   "outputs": [],
   "source": []
  }
 ],
 "metadata": {
  "kernelspec": {
   "display_name": "Python 3",
   "language": "python",
   "name": "python3"
  },
  "language_info": {
   "codemirror_mode": {
    "name": "ipython",
    "version": 3
   },
   "file_extension": ".py",
   "mimetype": "text/x-python",
   "name": "python",
   "nbconvert_exporter": "python",
   "pygments_lexer": "ipython3",
   "version": "3.7.4"
  }
 },
 "nbformat": 4,
 "nbformat_minor": 2
}
