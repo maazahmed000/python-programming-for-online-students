{
 "cells": [
  {
   "cell_type": "code",
   "execution_count": 1,
   "metadata": {},
   "outputs": [
    {
     "name": "stdout",
     "output_type": "stream",
     "text": [
      "Twinkle, twinkle, little star,\n",
      "      How I wonder what you are!\n",
      "            Up above the world so high,\n",
      "            Like a diamond in the sky.\n",
      "Twinkle, twinkle, little star,\n",
      "      How I wonder what you are!\n"
     ]
    }
   ],
   "source": [
    "w = 'Twinkle, twinkle, little star,'\n",
    "x = 'How I wonder what you are!'\n",
    "y = 'Up above the world so high,'\n",
    "z = 'Like a diamond in the sky.'\n",
    "print(w)\n",
    "print(' '*6 + x)\n",
    "print(' '*12 + y)\n",
    "print(' '*12 + z)\n",
    "print(w)\n",
    "print(' '*6 + x)\n"
   ]
  },
  {
   "cell_type": "code",
   "execution_count": 2,
   "metadata": {},
   "outputs": [
    {
     "name": "stdout",
     "output_type": "stream",
     "text": [
      "3.7.4\n"
     ]
    }
   ],
   "source": [
    "from platform import python_version\n",
    "print (python_version())\n"
   ]
  },
  {
   "cell_type": "code",
   "execution_count": 3,
   "metadata": {},
   "outputs": [
    {
     "name": "stdout",
     "output_type": "stream",
     "text": [
      "2019-10-31 20:18:29.565549\n"
     ]
    }
   ],
   "source": [
    "from datetime import datetime\n",
    "now = datetime. now()\n",
    "now. strftime(\"%d/%m/%Y %H:%M:%S\")\n",
    "print(now)\n"
   ]
  },
  {
   "cell_type": "code",
   "execution_count": 4,
   "metadata": {},
   "outputs": [
    {
     "name": "stdin",
     "output_type": "stream",
     "text": [
      "Enter Radius :  5.45\n"
     ]
    },
    {
     "name": "stdout",
     "output_type": "stream",
     "text": [
      "Area of circle is :  93.2955525\n"
     ]
    }
   ],
   "source": [
    "pi = 3.141\n",
    "r = float(input('Enter Radius : '))\n",
    "Area = pi * (r**2)\n",
    "print ('Area of circle is : ' , Area )"
   ]
  },
  {
   "cell_type": "code",
   "execution_count": 5,
   "metadata": {},
   "outputs": [
    {
     "name": "stdin",
     "output_type": "stream",
     "text": [
      "Enter First Name :  Maaz\n",
      "Enter Last Name :  Ahmed\n"
     ]
    },
    {
     "name": "stdout",
     "output_type": "stream",
     "text": [
      "Ahmed Maaz\n"
     ]
    }
   ],
   "source": [
    "First_name = input('Enter First Name : ')\n",
    "Last_name = input('Enter Last Name : ')\n",
    "order = Last_name + ' ' + First_name\n",
    "print(order)"
   ]
  },
  {
   "cell_type": "code",
   "execution_count": 6,
   "metadata": {},
   "outputs": [
    {
     "name": "stdin",
     "output_type": "stream",
     "text": [
      "Enter X:  5\n",
      "Enter Y:  8\n"
     ]
    },
    {
     "name": "stdout",
     "output_type": "stream",
     "text": [
      "13\n"
     ]
    }
   ],
   "source": [
    "x = int(input('Enter X: '))\n",
    "y = int(input('Enter Y: '))\n",
    "z = x + y\n",
    "print(z)"
   ]
  },
  {
   "cell_type": "code",
   "execution_count": null,
   "metadata": {},
   "outputs": [],
   "source": []
  }
 ],
 "metadata": {
  "kernelspec": {
   "display_name": "Python 3",
   "language": "python",
   "name": "python3"
  },
  "language_info": {
   "codemirror_mode": {
    "name": "ipython",
    "version": 3
   },
   "file_extension": ".py",
   "mimetype": "text/x-python",
   "name": "python",
   "nbconvert_exporter": "python",
   "pygments_lexer": "ipython3",
   "version": "3.7.4"
  }
 },
 "nbformat": 4,
 "nbformat_minor": 4
}
