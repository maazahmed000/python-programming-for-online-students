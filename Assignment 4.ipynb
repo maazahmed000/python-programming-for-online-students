{
 "cells": [
  {
   "cell_type": "code",
   "execution_count": 1,
   "metadata": {},
   "outputs": [
    {
     "name": "stdout",
     "output_type": "stream",
     "text": [
      "First Name: maaz\n",
      "Last Name: ahmed\n",
      "Age: 22\n",
      "Enter City: karachi\n",
      "Generated list:\n",
      "{'First_name': 'maaz', 'Last_name': 'ahmed', 'Age': 22, 'city': 'karachi'}\n",
      "\n",
      "Qualification : High Academic Level or Low Academic level ?\n",
      "High Academic Level\n",
      "\n",
      "After Adding Qualification as a key \n",
      "{'First_name': 'maaz', 'Last_name': 'ahmed', 'Age': 22, 'city': 'karachi', 'Qualification': 'High Academic Level'}\n",
      "\n",
      "After deleting Qualification Key\n",
      "{'First_name': 'maaz', 'Last_name': 'ahmed', 'Age': 22, 'city': 'karachi'}\n"
     ]
    }
   ],
   "source": [
    "x = input('First Name: ')\n",
    "y = input('Last Name: ')\n",
    "z = int(input('Age: '))\n",
    "a = input('Enter City: ')\n",
    "info ={\n",
    "        'First_name':x,\n",
    "        'Last_name':y,\n",
    "        'Age':z,\n",
    "        'city':a\n",
    "    }\n",
    "print('Generated list:'+'\\n'+str(info))\n",
    "b = input('\\n' + 'Qualification : High Academic Level or Low Academic level ?' + '\\n')\n",
    "info.update(Qualification=b)\n",
    "print('\\n'+'After Adding Qualification as a key ' + '\\n' + str(info))\n",
    "del info['Qualification']\n",
    "print('\\n'+'After deleting Qualification Key' + '\\n'+str(info))"
   ]
  },
  {
   "cell_type": "code",
   "execution_count": 2,
   "metadata": {},
   "outputs": [
    {
     "name": "stdout",
     "output_type": "stream",
     "text": [
      "City Info Portal\n",
      "select a the name of the City :\n",
      "1 : Karachi \t 2 : Miami\n",
      "3 : istanbul \t 4 : sydney\n",
      "5 : Ottawa\n",
      "Your Selection: 1\n",
      "Name of the City :  Karachi\n",
      "Country name     :  Pakistan\n",
      "Population       :  14.9 million\n",
      "Facts : \n",
      "* It is the Sixth largest city in the world by city population\n",
      "* it was named Kolachi After the name of an old woman, Mai Kolachi.she was the head of the village and was known for her fair decisions\n",
      "* the world’s second most populous town.\n"
     ]
    }
   ],
   "source": [
    "cities = {\n",
    "    'Karachi': {\n",
    "        'name of the city ': 'Karachi',\n",
    "        'Name of the Country': 'Pakistan',\n",
    "        'Average Population of the City ': '14.9 million',\n",
    "        'facts': [\"It is the Sixth largest city in the world by city population\",\n",
    "                  \"it was named Kolachi After the name of an old woman, Mai Kolachi.\"\n",
    "                  \"she was the head of the village and was known for her fair decisions\",\n",
    "                  \"the world’s second most populous town.\"]\n",
    "    },\n",
    "    'Miami': {\n",
    "        'name of the city ': 'Miami',\n",
    "        'Name of the Country': 'USA',\n",
    "        'Average Population of the City ': '463,354',\n",
    "        'facts': [\"The Mayaimi lived here in the 16th and 17th Centuries. \",\n",
    "                  \"It’s the only US city that was founded by a woman.\",\n",
    "                  \"The average temperature during winter is between 65 -\"\n",
    "                  \"75 degrees Fahrenheit. \", ]\n",
    "    },\n",
    "    'istanbul':{\n",
    "        'name of the city ': 'Istanbul',\n",
    "        'Name of the Country': 'Turkey',\n",
    "        'Average Population of the City ': '463,354',\n",
    "        'facts': [\"Istanbul is the only city in the world that straddles two continents: Asia and Europe.\",\n",
    "                  \"While not the capital, Istanbul is Turkey’s largest city with more than 13 million people – \"\n",
    "                  \"99 per cent of which are Muslim.\",\n",
    "                  \"Tulips, the symbol of Holland, originated in Istanbul and \"\n",
    "                  \"were sent from Istanbul to Netherlands.\"]\n",
    "    },\n",
    "    'sydney':{\n",
    "        'name of the city ': 'Sydney',\n",
    "        'Name of the Country': 'Australia',\n",
    "        'Average Population of the City ': '5.23 million',\n",
    "        'facts': [\"The Sydney Harbour Bridge is nicknamed “The Coathanger” because of its arch-based design.\",\n",
    "                  \"Sydney was given the nickname Sin City in the second half of the 20th century because \"\n",
    "                  \"organised crime held a grip on the city and corruption was rife, infiltrating the top \"\n",
    "                  \"levels of politics, law and justice.\",\n",
    "                  \"The Australia Day Regatta in Sydney Harbour is the oldest continuously-conducted annual \"\n",
    "                  \"sailing regatta in the world. The first event was in 1837.\"]\n",
    "    },\n",
    "    'Ottawa':{\n",
    "        'name of the city ': 'Ottawa',\n",
    "        'Name of the Country': 'Canada',\n",
    "        'Average Population of the City ': '5.23 million',\n",
    "        'facts': [\"Ottawa is the fourth largest city in Canada.\",\n",
    "                  \"In 1857 Queen Victoria chose Ottawa to be the capital of Canada.\",\n",
    "                  \"In 1970-71 a record 444.1 centimetres of snow fell over the winter. \"\n",
    "                  \"The average annual snowfall in Ottawa is 236 centimetres (92.8 inches\"]\n",
    "    }\n",
    "}\n",
    "print('City Info Portal')\n",
    "x = input('select a the name of the City :'+'\\n'+'1 : Karachi \\t 2 : Miami'+'\\n'+'3 : istanbul \\t 4 : sydney'+'\\n'+'5 : Ottawa'+'\\n'+'Your Selection: ')\n",
    "if x == '1' or x == 'Karachi' or x == 'karachi' or x == 'KARACHI':\n",
    "    print('Name of the City :  '\n",
    "          +cities['Karachi']['name of the city ']+'\\n'\n",
    "          +'Country name     :  '\n",
    "          +cities['Karachi']['Name of the Country']+'\\n'\n",
    "          +'Population       :  '\n",
    "          +cities['Karachi']['Average Population of the City ']+'\\n'\n",
    "          +'Facts : '\n",
    "          +'\\n'+'* '+cities['Karachi']['facts'][0]+'\\n'+'* '+cities['Karachi']['facts'][1]+'\\n'+'* '+cities['Karachi']['facts'][2])\n",
    "elif x == '2' or x == 'Miami' or x == 'miami' or x == 'MIAMI':\n",
    "    print('Name of the City :  '\n",
    "          +cities['Miami']['name of the city ']+'\\n'\n",
    "          +'Country name     :  '\n",
    "          +cities['Miami']['Name of the Country']+'\\n'\n",
    "          +'Population       :  '\n",
    "          +cities['Miami']['Average Population of the City ']+'\\n'\n",
    "          +'Facts : '\n",
    "          +'\\n'+'* '+cities['Miami']['facts'][0]+'\\n'+'* '+cities['Miami']['facts'][1]+'\\n'+'* '+cities['Miami']['facts'][2])\n",
    "elif x == '3' or x == 'Istanbul' or x == 'istanbul' or x == 'ISTANBUL':\n",
    "    print('Name of the City :  '\n",
    "          +cities['istanbul']['name of the city ']+'\\n'\n",
    "          +'Country name     :  '\n",
    "          +cities['istanbul']['Name of the Country']+'\\n'\n",
    "          +'Population       :  '\n",
    "          +cities['istanbul']['Average Population of the City ']+'\\n'\n",
    "          +'Facts : '\n",
    "          +'\\n'+'* '+cities['istanbul']['facts'][0]+'\\n'+'* '+cities['istanbul']['facts'][1]+'\\n'+'* '+cities['istanbul']['facts'][2])\n",
    "elif x == '4' or x == 'Sydney' or x == 'sydney' or x == 'SYDNEY':\n",
    "    print('Name of the City :  '\n",
    "          +cities['sydney']['name of the city ']+'\\n'\n",
    "          +'Country name     :  '\n",
    "          +cities['sydney']['Name of the Country']+'\\n'\n",
    "          +'Population       :  '\n",
    "          +cities['sydney']['Average Population of the City ']+'\\n'\n",
    "          +'Facts : '\n",
    "          +'\\n'+'* '+cities['sydney']['facts'][0]+'\\n'+'* '+cities['sydney']['facts'][1]+'\\n'+'* '+cities['sydney']['facts'][2])\n",
    "elif x == '5' or x == 'Ottawa' or x == 'ottawa' or x == 'OTTAWA':\n",
    "    print('Name of the City :  '\n",
    "          +cities['Ottawa']['name of the city ']+'\\n'\n",
    "          +'Country name     :  '\n",
    "          +cities['Ottawa']['Name of the Country']+'\\n'\n",
    "          +'Population       :  '\n",
    "          +cities['Ottawa']['Average Population of the City ']+'\\n'\n",
    "          +'Facts : '\n",
    "          +'\\n'+'* '+cities['Ottawa']['facts'][0]+'\\n'+'* '+cities['Ottawa']['facts'][1]+'\\n'+'* '+cities['Ottawa']['facts'][2])\n",
    "else:\n",
    "    print('Wrong selection, select between 1 to 5 or by the names of the city')"
   ]
  },
  {
   "cell_type": "code",
   "execution_count": 3,
   "metadata": {},
   "outputs": [
    {
     "name": "stdout",
     "output_type": "stream",
     "text": [
      "-----Movie theater Ticket-----\n",
      "Please tell your Age : 55\n",
      "Cost will be $15\n",
      "Please tell your Age : 10\n",
      "The ticket cost is $10\n",
      "Please tell your Age : 5\n",
      "The ticket cost is $10\n",
      "Please tell your Age : 3\n",
      "Ticket is free. \n",
      "Please tell your Age : 21\n",
      "Cost will be $15\n"
     ]
    }
   ],
   "source": [
    "print('-----Movie theater Ticket-----')\n",
    "for Quest in range(5):\n",
    "    Quest = int(input('Please tell your Age : '))\n",
    "    if Quest <= 3:\n",
    "        print('Ticket is free. ')\n",
    "    elif Quest >3 and Quest <=12:\n",
    "        print('The ticket cost is $10')\n",
    "    elif Quest > 12:\n",
    "        print('Cost will be $15')"
   ]
  },
  {
   "cell_type": "code",
   "execution_count": 4,
   "metadata": {},
   "outputs": [
    {
     "name": "stdout",
     "output_type": "stream",
     "text": [
      "A book Name: Sherlock Holmes\n",
      "My favourite book is  Sherlock Holmes\n",
      "My favourite book is  Twilight\n"
     ]
    }
   ],
   "source": [
    "title = input('A book Name: ')\n",
    "def favourite_book(title):\n",
    "    print('My favourite book is ',title)\n",
    "favourite_book(title) #if user Input\n",
    "favourite_book('Twilight')"
   ]
  },
  {
   "cell_type": "code",
   "execution_count": 5,
   "metadata": {},
   "outputs": [
    {
     "name": "stdout",
     "output_type": "stream",
     "text": [
      "Guess a Number: 1\n",
      "Your Guess if smaller\n",
      "you got  2 chances left\n",
      "Guess a Number: 15\n",
      "You have last Chance\n",
      "Your Guess is bigger \n",
      "you got  1 chances left\n",
      "Guess a Number: 10\n",
      "Your Guess is bigger \n",
      "you got  0 chances left\n",
      "Try Again\n"
     ]
    }
   ],
   "source": [
    "import random\n",
    "guess = 0\n",
    "random_quess = random.randint(1,30)\n",
    "for x in range(3):\n",
    "    x = int(input('Guess a Number: '))\n",
    "\n",
    "    guess += 1\n",
    "    if guess == 2:\n",
    "        print('You have last Chance')\n",
    "    if x > random_quess:\n",
    "        print('Your Guess is bigger ')\n",
    "    elif x < random_quess:\n",
    "        print('Your Guess if smaller')\n",
    "    elif x == random_quess:\n",
    "        print('You Are damn Lucky... you Won')\n",
    "    print('you got ', 3-guess ,'chances left')\n",
    "if guess == 3:\n",
    "    print('Try Again')"
   ]
  },
  {
   "cell_type": "code",
   "execution_count": null,
   "metadata": {},
   "outputs": [],
   "source": []
  }
 ],
 "metadata": {
  "kernelspec": {
   "display_name": "Python 3",
   "language": "python",
   "name": "python3"
  },
  "language_info": {
   "codemirror_mode": {
    "name": "ipython",
    "version": 3
   },
   "file_extension": ".py",
   "mimetype": "text/x-python",
   "name": "python",
   "nbconvert_exporter": "python",
   "pygments_lexer": "ipython3",
   "version": "3.7.4"
  }
 },
 "nbformat": 4,
 "nbformat_minor": 2
}
